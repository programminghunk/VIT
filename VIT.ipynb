{
 "cells": [
  {
   "cell_type": "code",
   "execution_count": 1,
   "id": "22875844",
   "metadata": {},
   "outputs": [],
   "source": [
    "import os\n",
    "import cv2\n",
    "import numpy as np\n",
    "import tensorflow as tf\n",
    "from tensorflow.keras.preprocessing.image import ImageDataGenerator\n"
   ]
  },
  {
   "cell_type": "code",
   "execution_count": 6,
   "id": "f10c17eb",
   "metadata": {},
   "outputs": [
    {
     "name": "stdout",
     "output_type": "stream",
     "text": [
      "Found 1586 images belonging to 2 classes.\n",
      "Found 588 images belonging to 2 classes.\n",
      "Class Labels: ['damaged', 'good']\n",
      "Class Indices: {'damaged': 0, 'good': 1}\n"
     ]
    }
   ],
   "source": [
    "# Define the directories for train and test data\n",
    "train_dir = 'E:/newdata/train'\n",
    "test_dir = 'E:/newdata/test'\n",
    "\n",
    "# Image size\n",
    "image_size = (224, 224)\n",
    "\n",
    "# Batch size\n",
    "batch_size = 32\n",
    "\n",
    "# Data augmentation for training set (optional but recommended)\n",
    "train_datagen = ImageDataGenerator(\n",
    "    rescale=1./255,  # Normalize pixel values to [0, 1]\n",
    "    rotation_range=20,  # Random rotation\n",
    "    width_shift_range=0.2,  # Random horizontal shift\n",
    "    height_shift_range=0.2,  # Random vertical shift\n",
    "    horizontal_flip=True  # Random horizontal flip\n",
    ")\n",
    "\n",
    "# Data augmentation for test set (optional but recommended)\n",
    "test_datagen = ImageDataGenerator(rescale=1./255)\n",
    "\n",
    "# Load train and test data\n",
    "train_data = train_datagen.flow_from_directory(\n",
    "    train_dir,\n",
    "    target_size=image_size,\n",
    "    batch_size=batch_size,\n",
    "    class_mode='binary'  # Set to 'categorical' if you have more than 2 classes\n",
    ")\n",
    "\n",
    "test_data = test_datagen.flow_from_directory(\n",
    "    test_dir,\n",
    "    target_size=image_size,\n",
    "    batch_size=batch_size,\n",
    "    class_mode='binary'  # Set to 'categorical' if you have more than 2 classes\n",
    ")\n",
    "\n",
    "# Optionally, you can access class labels and their corresponding indices like this:\n",
    "class_labels = list(train_data.class_indices.keys())\n",
    "class_indices = train_data.class_indices\n",
    "\n",
    "# Print the class labels and their indices\n",
    "print(\"Class Labels:\", class_labels)\n",
    "print(\"Class Indices:\", class_indices)\n"
   ]
  },
  {
   "cell_type": "code",
   "execution_count": 8,
   "id": "8a3be9b9",
   "metadata": {},
   "outputs": [
    {
     "name": "stdout",
     "output_type": "stream",
     "text": [
      "Epoch 1/10\n",
      "50/50 [==============================] - 424s 8s/step - loss: 0.9707 - accuracy: 0.5719\n",
      "Epoch 2/10\n",
      "50/50 [==============================] - 387s 8s/step - loss: 0.6009 - accuracy: 0.7125\n",
      "Epoch 3/10\n",
      "50/50 [==============================] - 388s 8s/step - loss: 0.5478 - accuracy: 0.7446\n",
      "Epoch 4/10\n",
      "50/50 [==============================] - 391s 8s/step - loss: 0.5098 - accuracy: 0.7547\n",
      "Epoch 5/10\n",
      "50/50 [==============================] - 389s 8s/step - loss: 0.4439 - accuracy: 0.7957\n",
      "Epoch 6/10\n",
      "50/50 [==============================] - 388s 8s/step - loss: 0.4446 - accuracy: 0.7957\n",
      "Epoch 7/10\n",
      "50/50 [==============================] - 391s 8s/step - loss: 0.4325 - accuracy: 0.7989\n",
      "Epoch 8/10\n",
      "50/50 [==============================] - 399s 8s/step - loss: 0.4453 - accuracy: 0.7850\n",
      "Epoch 9/10\n",
      "50/50 [==============================] - 409s 8s/step - loss: 0.4185 - accuracy: 0.8058\n",
      "Epoch 10/10\n",
      "50/50 [==============================] - 410s 8s/step - loss: 0.4177 - accuracy: 0.8064\n",
      "19/19 [==============================] - 150s 8s/step - loss: 0.5615 - accuracy: 0.7449\n",
      "Test Loss: 0.5615496039390564\n",
      "Test Accuracy: 0.7448979616165161\n",
      "19/19 [==============================] - 148s 8s/step\n"
     ]
    },
    {
     "data": {
      "image/png": "[encoded data removed]",
      "text/plain": [
       "<Figure size 640x480 with 2 Axes>"
      ]
     },
     "metadata": {},
     "output_type": "display_data"
    }
   ],
   "source": [
    "import tensorflow as tf\n",
    "import tensorflow_hub as hub\n",
    "import numpy as np\n",
    "import matplotlib.pyplot as plt\n",
    "from sklearn.metrics import confusion_matrix, ConfusionMatrixDisplay\n",
    "\n",
    "# Step 1: Define the Model Architecture\n",
    "input_shape = (224, 224, 3)  # Assuming RGB images with size 224x224\n",
    "\n",
    "# Using Vision Transformer from TensorFlow Hub\n",
    "vit_model_url = \"https://tfhub.dev/google/bit/m-r50x1/1\"\n",
    "vit_model = tf.keras.Sequential([\n",
    "    hub.KerasLayer(vit_model_url, input_shape=input_shape),\n",
    "    tf.keras.layers.Dense(1, activation='sigmoid')  # Use sigmoid activation for binary classification\n",
    "])\n",
    "\n",
    "# Step 2: Compile the Model\n",
    "vit_model.compile(\n",
    "    optimizer=tf.keras.optimizers.Adam(learning_rate=0.001),\n",
    "    loss='binary_crossentropy',\n",
    "    metrics=['accuracy']\n",
    ")\n",
    "\n",
    "# Step 3: Train the Model\n",
    "epochs = 10\n",
    "vit_model.fit(train_data, epochs=epochs)\n",
    "\n",
    "# Step 4: Evaluate the Model\n",
    "test_loss, test_accuracy = vit_model.evaluate(test_data)\n",
    "print(\"Test Loss:\", test_loss)\n",
    "print(\"Test Accuracy:\", test_accuracy)\n",
    "\n",
    "# Generate predictions on the test dataset\n",
    "y_pred_probs = vit_model.predict(test_data)\n",
    "y_pred = (y_pred_probs > 0.5).astype(int)  # Convert probabilities to binary predictions (0 or 1)\n",
    "\n",
    "# Get true labels for the test dataset\n",
    "y_true = test_data.classes\n",
    "\n",
    "# Generate the confusion matrix\n",
    "cm = confusion_matrix(y_true, y_pred)\n",
    "\n",
    "# Display the confusion matrix as a heatmap\n",
    "class_labels = list(train_data.class_indices.keys())\n",
    "disp = ConfusionMatrixDisplay(confusion_matrix=cm, display_labels=class_labels)\n",
    "disp.plot(cmap='viridis', values_format='d', xticks_rotation='vertical')\n",
    "plt.title(\"Confusion Matrix\")\n",
    "plt.show()\n"
   ]
  },
  {
   "cell_type": "code",
   "execution_count": null,
   "id": "1382fa70",
   "metadata": {},
   "outputs": [],
   "source": []
  },
  {
   "cell_type": "code",
   "execution_count": null,
   "id": "131fd12c",
   "metadata": {},
   "outputs": [],
   "source": []
  }
 ],
 "metadata": {
  "kernelspec": {
   "display_name": "Python 3 (ipykernel)",
   "language": "python",
   "name": "python3"
  },
  "language_info": {
   "codemirror_mode": {
    "name": "ipython",
    "version": 3
   },
   "file_extension": ".py",
   "mimetype": "text/x-python",
   "name": "python",
   "nbconvert_exporter": "python",
   "pygments_lexer": "ipython3",
   "version": "3.10.9"
  }
 },
 "nbformat": 4,
 "nbformat_minor": 5
}
